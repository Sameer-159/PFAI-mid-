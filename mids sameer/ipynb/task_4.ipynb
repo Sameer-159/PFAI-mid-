{
  "nbformat": 4,
  "nbformat_minor": 0,
  "metadata": {
    "colab": {
      "provenance": []
    },
    "kernelspec": {
      "name": "ir",
      "display_name": "R"
    },
    "language_info": {
      "name": "R"
    }
  },
  "cells": [
    {
      "cell_type": "code",
      "source": [
        "install.packages(\"caret\")"
      ],
      "metadata": {
        "colab": {
          "base_uri": "https://localhost:8080/"
        },
        "id": "9dVoymUSJXay",
        "outputId": "1a3313b9-51c9-49bd-fc13-40e4b3f44e1e"
      },
      "execution_count": 4,
      "outputs": [
        {
          "output_type": "stream",
          "name": "stderr",
          "text": [
            "Installing package into ‘/usr/local/lib/R/site-library’\n",
            "(as ‘lib’ is unspecified)\n",
            "\n",
            "also installing the dependencies ‘future’, ‘future.apply’, ‘progressr’, ‘SQUAREM’, ‘diagram’, ‘lava’, ‘prodlim’, ‘clock’, ‘gower’, ‘hardhat’, ‘ipred’, ‘timeDate’, ‘e1071’, ‘foreach’, ‘ModelMetrics’, ‘plyr’, ‘pROC’, ‘recipes’, ‘reshape2’\n",
            "\n",
            "\n"
          ]
        }
      ]
    },
    {
      "cell_type": "code",
      "source": [
        "library(caret)\n",
        "library(dplyr)"
      ],
      "metadata": {
        "id": "IjI5LnVpRK-R"
      },
      "execution_count": 9,
      "outputs": []
    },
    {
      "cell_type": "code",
      "source": [
        "data(mtcars)"
      ],
      "metadata": {
        "id": "CJjHAT-JRMZ5"
      },
      "execution_count": 10,
      "outputs": []
    },
    {
      "cell_type": "code",
      "source": [
        "set.seed(123)"
      ],
      "metadata": {
        "id": "gmHE13AgROYQ"
      },
      "execution_count": 11,
      "outputs": []
    },
    {
      "cell_type": "code",
      "source": [
        "trainIndex <- createDataPartition(mtcars$mpg, p = 0.8, list = FALSE)\n",
        "trainData <- mtcars[trainIndex, ]\n",
        "testData <- mtcars[-trainIndex, ]"
      ],
      "metadata": {
        "id": "92XHh6NfRQrw"
      },
      "execution_count": 12,
      "outputs": []
    },
    {
      "cell_type": "code",
      "source": [
        "# Preprocessing: center and scale the predictors\n",
        "preProcess_params <- preProcess(trainData, method = c(\"center\", \"scale\"))"
      ],
      "metadata": {
        "id": "5UFugYKgRTGh"
      },
      "execution_count": 13,
      "outputs": []
    },
    {
      "cell_type": "code",
      "source": [
        "# Apply preprocessing to both train and test sets\n",
        "trainTransformed <- predict(preProcess_params, trainData)\n",
        "testTransformed <- predict(preProcess_params, testData)"
      ],
      "metadata": {
        "id": "BiiNV526RVCp"
      },
      "execution_count": 14,
      "outputs": []
    },
    {
      "cell_type": "code",
      "source": [
        "model <- train(\n",
        "  mpg ~ .,\n",
        "  data = trainTransformed,\n",
        "  method = \"lm\",\n",
        "  trControl = trainControl(method = \"cv\", number = 10)\n",
        ")\n"
      ],
      "metadata": {
        "id": "ty15AvfXRWSq"
      },
      "execution_count": 15,
      "outputs": []
    },
    {
      "cell_type": "code",
      "source": [],
      "metadata": {
        "id": "FIO90aBeRaNZ"
      },
      "execution_count": null,
      "outputs": []
    },
    {
      "cell_type": "code",
      "source": [
        "print(summary(model))"
      ],
      "metadata": {
        "colab": {
          "base_uri": "https://localhost:8080/"
        },
        "id": "k9z0dx-YRX1i",
        "outputId": "0c018b57-92dc-4536-873b-842f13d55236"
      },
      "execution_count": 16,
      "outputs": [
        {
          "output_type": "stream",
          "name": "stdout",
          "text": [
            "\n",
            "Call:\n",
            "lm(formula = .outcome ~ ., data = dat)\n",
            "\n",
            "Residuals:\n",
            "     Min       1Q   Median       3Q      Max \n",
            "-0.57292 -0.23814 -0.04738  0.20860  0.87276 \n",
            "\n",
            "Coefficients:\n",
            "              Estimate Std. Error t value Pr(>|t|)\n",
            "(Intercept) -2.322e-16  8.038e-02   0.000    1.000\n",
            "cyl          2.380e-01  3.828e-01   0.622    0.542\n",
            "disp         2.540e-01  3.630e-01   0.700    0.494\n",
            "hp          -1.575e-01  2.497e-01  -0.631    0.536\n",
            "drat         2.106e-01  1.667e-01   1.264    0.223\n",
            "wt          -4.822e-01  3.316e-01  -1.454    0.164\n",
            "qsec         1.607e-01  2.139e-01   0.751    0.463\n",
            "vs           1.081e-01  1.801e-01   0.600    0.556\n",
            "am           1.483e-01  1.779e-01   0.833    0.416\n",
            "gear         3.775e-01  2.411e-01   1.566    0.136\n",
            "carb        -3.456e-01  2.831e-01  -1.221    0.239\n",
            "\n",
            "Residual standard error: 0.4253 on 17 degrees of freedom\n",
            "Multiple R-squared:  0.8861,\tAdjusted R-squared:  0.8191 \n",
            "F-statistic: 13.23 on 10 and 17 DF,  p-value: 3.719e-06\n",
            "\n"
          ]
        }
      ]
    },
    {
      "cell_type": "code",
      "source": [
        "# Predict on the test set\n",
        "predictions <- predict(model, newdata = testTransformed)"
      ],
      "metadata": {
        "id": "tcyhCULSRawy"
      },
      "execution_count": 17,
      "outputs": []
    },
    {
      "cell_type": "code",
      "source": [
        "rmse <- RMSE(predictions, testTransformed$mpg)\n",
        "r2 <- R2(predictions, testTransformed$mpg)"
      ],
      "metadata": {
        "id": "btcScBKWRdkZ"
      },
      "execution_count": 18,
      "outputs": []
    },
    {
      "cell_type": "code",
      "source": [
        "cat(\"RMSE on test set:\", rmse, \"\\n\")\n",
        "cat(\"R-squared on test set:\", r2, \"\\n\")"
      ],
      "metadata": {
        "colab": {
          "base_uri": "https://localhost:8080/"
        },
        "id": "JqQUxubbRfI4",
        "outputId": "1b880f0e-a680-428e-d6c5-30e92d111db7"
      },
      "execution_count": 19,
      "outputs": [
        {
          "output_type": "stream",
          "name": "stdout",
          "text": [
            "RMSE on test set: 0.8414858 \n",
            "R-squared on test set: 0.6297763 \n"
          ]
        }
      ]
    }
  ]
}